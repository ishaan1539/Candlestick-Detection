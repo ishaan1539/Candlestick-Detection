{
 "cells": [
  {
   "cell_type": "code",
   "execution_count": 1,
   "id": "6b3dd349",
   "metadata": {},
   "outputs": [],
   "source": [
    "import pandas as pd"
   ]
  },
  {
   "cell_type": "code",
   "execution_count": 2,
   "id": "fc3f16db",
   "metadata": {},
   "outputs": [],
   "source": [
    "TICKER = 'NIFTY'\n",
    "df = pd.read_csv(\"nifty50.csv\")\n",
    "df = df.head(12000)\n",
    "df = df[['open', 'high', 'low', 'close']]"
   ]
  },
  {
   "cell_type": "code",
   "execution_count": 3,
   "id": "2853e12d",
   "metadata": {},
   "outputs": [
    {
     "data": {
      "text/html": [
       "<div>\n",
       "<style scoped>\n",
       "    .dataframe tbody tr th:only-of-type {\n",
       "        vertical-align: middle;\n",
       "    }\n",
       "\n",
       "    .dataframe tbody tr th {\n",
       "        vertical-align: top;\n",
       "    }\n",
       "\n",
       "    .dataframe thead th {\n",
       "        text-align: right;\n",
       "    }\n",
       "</style>\n",
       "<table border=\"1\" class=\"dataframe\">\n",
       "  <thead>\n",
       "    <tr style=\"text-align: right;\">\n",
       "      <th></th>\n",
       "      <th>Open_NIFTY</th>\n",
       "      <th>High_NIFTY</th>\n",
       "      <th>Low_NIFTY</th>\n",
       "      <th>Close_NIFTY</th>\n",
       "    </tr>\n",
       "  </thead>\n",
       "  <tbody>\n",
       "    <tr>\n",
       "      <th>0</th>\n",
       "      <td>5701.15</td>\n",
       "      <td>5704.65</td>\n",
       "      <td>5694.30</td>\n",
       "      <td>5697.00</td>\n",
       "    </tr>\n",
       "    <tr>\n",
       "      <th>1</th>\n",
       "      <td>5697.05</td>\n",
       "      <td>5698.35</td>\n",
       "      <td>5695.65</td>\n",
       "      <td>5697.50</td>\n",
       "    </tr>\n",
       "    <tr>\n",
       "      <th>2</th>\n",
       "      <td>5697.90</td>\n",
       "      <td>5697.90</td>\n",
       "      <td>5690.60</td>\n",
       "      <td>5692.15</td>\n",
       "    </tr>\n",
       "    <tr>\n",
       "      <th>3</th>\n",
       "      <td>5691.65</td>\n",
       "      <td>5694.70</td>\n",
       "      <td>5691.65</td>\n",
       "      <td>5693.90</td>\n",
       "    </tr>\n",
       "    <tr>\n",
       "      <th>4</th>\n",
       "      <td>5694.40</td>\n",
       "      <td>5695.05</td>\n",
       "      <td>5693.35</td>\n",
       "      <td>5694.55</td>\n",
       "    </tr>\n",
       "  </tbody>\n",
       "</table>\n",
       "</div>"
      ],
      "text/plain": [
       "   Open_NIFTY  High_NIFTY  Low_NIFTY  Close_NIFTY\n",
       "0     5701.15     5704.65    5694.30      5697.00\n",
       "1     5697.05     5698.35    5695.65      5697.50\n",
       "2     5697.90     5697.90    5690.60      5692.15\n",
       "3     5691.65     5694.70    5691.65      5693.90\n",
       "4     5694.40     5695.05    5693.35      5694.55"
      ]
     },
     "execution_count": 3,
     "metadata": {},
     "output_type": "execute_result"
    }
   ],
   "source": [
    "df = df.rename(columns={\n",
    "    'open': f'Open_{TICKER}',\n",
    "    'close': f'Close_{TICKER}',\n",
    "    'low': f'Low_{TICKER}',\n",
    "    'high': f'High_{TICKER}'\n",
    "})\n",
    "df.head()"
   ]
  },
  {
   "cell_type": "code",
   "execution_count": 4,
   "id": "6925dc60",
   "metadata": {},
   "outputs": [],
   "source": [
    "def add_features(df, open, high, low, close):\n",
    "    df = df.copy()\n",
    "    df[f'Body_{TICKER}'] = (df[open] - df[close]).abs()\n",
    "    df[f'Lower_Shadow_{TICKER}'] = (df[[open, close]].min(axis=1) - df[low])\n",
    "    df[f'Upper_Shadow_{TICKER}'] = (df[high] - df[[open, close]].max(axis=1))\n",
    "    return df"
   ]
  },
  {
   "cell_type": "code",
   "execution_count": 5,
   "id": "88569ac6",
   "metadata": {},
   "outputs": [],
   "source": [
    "df = add_features(df, f\"Open_{TICKER}\", f\"High_{TICKER}\", f\"Low_{TICKER}\", f\"Close_{TICKER}\")"
   ]
  },
  {
   "cell_type": "code",
   "execution_count": 6,
   "id": "7d19f5a1",
   "metadata": {},
   "outputs": [
    {
     "data": {
      "text/html": [
       "<div>\n",
       "<style scoped>\n",
       "    .dataframe tbody tr th:only-of-type {\n",
       "        vertical-align: middle;\n",
       "    }\n",
       "\n",
       "    .dataframe tbody tr th {\n",
       "        vertical-align: top;\n",
       "    }\n",
       "\n",
       "    .dataframe thead th {\n",
       "        text-align: right;\n",
       "    }\n",
       "</style>\n",
       "<table border=\"1\" class=\"dataframe\">\n",
       "  <thead>\n",
       "    <tr style=\"text-align: right;\">\n",
       "      <th></th>\n",
       "      <th>Open_NIFTY</th>\n",
       "      <th>High_NIFTY</th>\n",
       "      <th>Low_NIFTY</th>\n",
       "      <th>Close_NIFTY</th>\n",
       "      <th>Body_NIFTY</th>\n",
       "      <th>Lower_Shadow_NIFTY</th>\n",
       "      <th>Upper_Shadow_NIFTY</th>\n",
       "    </tr>\n",
       "  </thead>\n",
       "  <tbody>\n",
       "    <tr>\n",
       "      <th>0</th>\n",
       "      <td>5701.15</td>\n",
       "      <td>5704.65</td>\n",
       "      <td>5694.30</td>\n",
       "      <td>5697.00</td>\n",
       "      <td>4.15</td>\n",
       "      <td>2.70</td>\n",
       "      <td>3.50</td>\n",
       "    </tr>\n",
       "    <tr>\n",
       "      <th>1</th>\n",
       "      <td>5697.05</td>\n",
       "      <td>5698.35</td>\n",
       "      <td>5695.65</td>\n",
       "      <td>5697.50</td>\n",
       "      <td>0.45</td>\n",
       "      <td>1.40</td>\n",
       "      <td>0.85</td>\n",
       "    </tr>\n",
       "    <tr>\n",
       "      <th>2</th>\n",
       "      <td>5697.90</td>\n",
       "      <td>5697.90</td>\n",
       "      <td>5690.60</td>\n",
       "      <td>5692.15</td>\n",
       "      <td>5.75</td>\n",
       "      <td>1.55</td>\n",
       "      <td>0.00</td>\n",
       "    </tr>\n",
       "    <tr>\n",
       "      <th>3</th>\n",
       "      <td>5691.65</td>\n",
       "      <td>5694.70</td>\n",
       "      <td>5691.65</td>\n",
       "      <td>5693.90</td>\n",
       "      <td>2.25</td>\n",
       "      <td>0.00</td>\n",
       "      <td>0.80</td>\n",
       "    </tr>\n",
       "    <tr>\n",
       "      <th>4</th>\n",
       "      <td>5694.40</td>\n",
       "      <td>5695.05</td>\n",
       "      <td>5693.35</td>\n",
       "      <td>5694.55</td>\n",
       "      <td>0.15</td>\n",
       "      <td>1.05</td>\n",
       "      <td>0.50</td>\n",
       "    </tr>\n",
       "  </tbody>\n",
       "</table>\n",
       "</div>"
      ],
      "text/plain": [
       "   Open_NIFTY  High_NIFTY  Low_NIFTY  Close_NIFTY  Body_NIFTY  \\\n",
       "0     5701.15     5704.65    5694.30      5697.00        4.15   \n",
       "1     5697.05     5698.35    5695.65      5697.50        0.45   \n",
       "2     5697.90     5697.90    5690.60      5692.15        5.75   \n",
       "3     5691.65     5694.70    5691.65      5693.90        2.25   \n",
       "4     5694.40     5695.05    5693.35      5694.55        0.15   \n",
       "\n",
       "   Lower_Shadow_NIFTY  Upper_Shadow_NIFTY  \n",
       "0                2.70                3.50  \n",
       "1                1.40                0.85  \n",
       "2                1.55                0.00  \n",
       "3                0.00                0.80  \n",
       "4                1.05                0.50  "
      ]
     },
     "execution_count": 6,
     "metadata": {},
     "output_type": "execute_result"
    }
   ],
   "source": [
    "df.head()"
   ]
  },
  {
   "cell_type": "code",
   "execution_count": 7,
   "id": "d32d6f2b",
   "metadata": {},
   "outputs": [],
   "source": [
    "df['MA_5h'] = df[f\"Close_{TICKER}\"].rolling(window=300).mean()"
   ]
  },
  {
   "cell_type": "code",
   "execution_count": 8,
   "id": "24746f86",
   "metadata": {},
   "outputs": [],
   "source": [
    "def get_trend(df, i, TICKER='AAPL'):\n",
    "    if i < 300:  # 5 hours = 300 rows for 1-minute data\n",
    "        return None\n",
    "\n",
    "    closes = df.iloc[i-5:i][f\"Close_{TICKER}\"]\n",
    "    ma = df.iloc[i-5:i]['MA_5h']\n",
    "    above = (closes > ma).sum()\n",
    "    below = (closes < ma).sum()\n",
    "\n",
    "    if above >= 3:\n",
    "        return 'uptrend'\n",
    "    elif below >= 3:\n",
    "        return 'downtrend'\n",
    "    else:\n",
    "        return 'sideways'"
   ]
  },
  {
   "cell_type": "code",
   "execution_count": 9,
   "id": "6dbd9e60",
   "metadata": {},
   "outputs": [],
   "source": [
    "def is_morning_star(df, i, TICKER=TICKER):\n",
    "    if i < 2:\n",
    "        return False\n",
    "    trend = get_trend(df, i, TICKER)\n",
    "    if trend != 'downtrend':\n",
    "        return False\n",
    "\n",
    "    c0, c1, c2 = df.iloc[i-2], df.iloc[i-1], df.iloc[i]\n",
    "\n",
    "    return (\n",
    "        c0[f\"Close_{TICKER}\"] < c0[f\"Open_{TICKER}\"] and\n",
    "        c1[f'Body_{TICKER}'] < 0.3 * (c1[f\"High_{TICKER}\"] - c1[f\"Low_{TICKER}\"]) and\n",
    "        c2[f\"Close_{TICKER}\"] > c2[f\"Open_{TICKER}\"] and\n",
    "        c2[f\"Close_{TICKER}\"] > (c0[f\"Open_{TICKER}\"] + c0[f\"Close_{TICKER}\"]) / 2\n",
    "    )\n",
    "def is_evening_star(df, i, TICKER=TICKER):\n",
    "    if i < 2:\n",
    "        return False\n",
    "    trend = get_trend(df, i, TICKER)\n",
    "    if trend != 'uptrend':\n",
    "        return False\n",
    "\n",
    "    c0, c1, c2 = df.iloc[i-2], df.iloc[i-1], df.iloc[i]\n",
    "\n",
    "    return (\n",
    "        c0[f\"Close_{TICKER}\"] > c0[f\"Open_{TICKER}\"] and\n",
    "        c1[f'Body_{TICKER}'] < 0.3 * (c1[f\"High_{TICKER}\"] - c1[f\"Low_{TICKER}\"]) and\n",
    "        c2[f\"Close_{TICKER}\"] < c2[f\"Open_{TICKER}\"] and\n",
    "        c2[f\"Close_{TICKER}\"] < (c0[f\"Open_{TICKER}\"] + c0[f\"Close_{TICKER}\"]) / 2\n",
    "    )\n",
    "def is_bullish_engulfing(df, i, TICKER=TICKER):\n",
    "    if i < 1:\n",
    "        return False\n",
    "    trend = get_trend(df, i, TICKER)\n",
    "    if trend != 'downtrend':\n",
    "        return False\n",
    "\n",
    "    prev = df.iloc[i-1]\n",
    "    curr = df.iloc[i]\n",
    "\n",
    "    return (\n",
    "        prev[f\"Close_{TICKER}\"] < prev[f\"Open_{TICKER}\"] and\n",
    "        curr[f\"Close_{TICKER}\"] > curr[f\"Open_{TICKER}\"] and\n",
    "        curr[f\"Open_{TICKER}\"] < prev[f\"Close_{TICKER}\"] and\n",
    "        curr[f\"Close_{TICKER}\"] > prev[f\"Open_{TICKER}\"]\n",
    "    )\n",
    "def is_bearish_engulfing(df, i, TICKER=TICKER):\n",
    "    if i < 1:\n",
    "        return False\n",
    "    trend = get_trend(df, i, TICKER)\n",
    "    if trend != 'uptrend':\n",
    "        return False\n",
    "\n",
    "    prev = df.iloc[i-1]\n",
    "    curr = df.iloc[i]\n",
    "\n",
    "    return (\n",
    "        prev[f\"Close_{TICKER}\"] > prev[f\"Open_{TICKER}\"] and\n",
    "        curr[f\"Close_{TICKER}\"] < curr[f\"Open_{TICKER}\"] and\n",
    "        curr[f\"Open_{TICKER}\"] > prev[f\"Close_{TICKER}\"] and\n",
    "        curr[f\"Close_{TICKER}\"] < prev[f\"Open_{TICKER}\"]\n",
    "    )\n",
    "def is_bullish_harami(df, i, TICKER=TICKER):\n",
    "    if i < 1:\n",
    "        return False\n",
    "    trend = get_trend(df, i, TICKER)\n",
    "    if trend != 'downtrend':\n",
    "        return False\n",
    "\n",
    "    prev = df.iloc[i-1]\n",
    "    curr = df.iloc[i]\n",
    "\n",
    "    return (\n",
    "        prev[f\"Close_{TICKER}\"] < prev[f\"Open_{TICKER}\"] and\n",
    "        curr[f\"Close_{TICKER}\"] > curr[f\"Open_{TICKER}\"] and\n",
    "        curr[f\"Open_{TICKER}\"] > prev[f\"Close_{TICKER}\"] and\n",
    "        curr[f\"Close_{TICKER}\"] < prev[f\"Open_{TICKER}\"]\n",
    "    )\n",
    "def is_bearish_harami(df, i, TICKER=TICKER):\n",
    "    if i < 1:\n",
    "        return False\n",
    "    trend = get_trend(df, i, TICKER)\n",
    "    if trend != 'uptrend':\n",
    "        return False\n",
    "\n",
    "    prev = df.iloc[i-1]\n",
    "    curr = df.iloc[i]\n",
    "\n",
    "    return (\n",
    "        prev[f\"Close_{TICKER}\"] > prev[f\"Open_{TICKER}\"] and\n",
    "        curr[f\"Close_{TICKER}\"] < curr[f\"Open_{TICKER}\"] and\n",
    "        curr[f\"Open_{TICKER}\"] < prev[f\"Close_{TICKER}\"] and\n",
    "        curr[f\"Close_{TICKER}\"] > prev[f\"Open_{TICKER}\"]\n",
    "    )\n"
   ]
  },
  {
   "cell_type": "code",
   "execution_count": 10,
   "id": "e847d253",
   "metadata": {},
   "outputs": [],
   "source": [
    "def label_patterns(df, TICKER=TICKER):\n",
    "    labels = ['None'] * len(df)\n",
    "\n",
    "    for i in range(len(df)):\n",
    "        if is_morning_star(df, i, TICKER):\n",
    "            labels[i] = 'Morning Star'\n",
    "        elif is_evening_star(df, i, TICKER):\n",
    "            labels[i] = 'Evening Star'\n",
    "        elif is_bullish_engulfing(df, i, TICKER):\n",
    "            labels[i] = 'Bullish Engulfing'\n",
    "        elif is_bearish_engulfing(df, i, TICKER):\n",
    "            labels[i] = 'Bearish Engulfing'\n",
    "        elif is_bullish_harami(df, i, TICKER):\n",
    "            labels[i] = 'Bullish Harami'\n",
    "        elif is_bearish_harami(df, i, TICKER):\n",
    "            labels[i] = 'Bearish Harami'\n",
    "\n",
    "    df = df.copy()\n",
    "    df['Pattern'] = labels\n",
    "    return df"
   ]
  },
  {
   "cell_type": "code",
   "execution_count": 11,
   "id": "1b397860",
   "metadata": {},
   "outputs": [],
   "source": [
    "df = label_patterns(df)"
   ]
  },
  {
   "cell_type": "code",
   "execution_count": 12,
   "id": "221c5c20",
   "metadata": {},
   "outputs": [
    {
     "name": "stdout",
     "output_type": "stream",
     "text": [
      "{'None': 10435, 'Bullish Harami': 327, 'Bearish Harami': 279, 'Bearish Engulfing': 262, 'Evening Star': 240, 'Bullish Engulfing': 236, 'Morning Star': 221}\n"
     ]
    }
   ],
   "source": [
    "pattern_counts = df['Pattern'].value_counts().to_dict()\n",
    "print(pattern_counts)"
   ]
  },
  {
   "cell_type": "code",
   "execution_count": 13,
   "id": "694d2601",
   "metadata": {},
   "outputs": [],
   "source": [
    "df_updated = df[df['Pattern'] != 'None'].reset_index(drop=True)"
   ]
  },
  {
   "cell_type": "code",
   "execution_count": 14,
   "id": "10e76210",
   "metadata": {},
   "outputs": [
    {
     "name": "stdout",
     "output_type": "stream",
     "text": [
      "{'Bullish Harami': 327, 'Bearish Harami': 279, 'Bearish Engulfing': 262, 'Evening Star': 240, 'Bullish Engulfing': 236, 'Morning Star': 221}\n"
     ]
    }
   ],
   "source": [
    "pattern_counts = df_updated['Pattern'].value_counts().to_dict()\n",
    "print(pattern_counts)"
   ]
  },
  {
   "cell_type": "code",
   "execution_count": 15,
   "id": "86f3f832",
   "metadata": {},
   "outputs": [],
   "source": [
    "from pyts.image import GramianAngularField\n",
    "import numpy as np\n",
    "gaf_transformer = GramianAngularField(image_size=60, method='difference')\n",
    "def gaf_window(df, i, TICKER=TICKER, window_size=60):\n",
    "    if i < window_size:\n",
    "        return None, None\n",
    "\n",
    "    window_df = df.iloc[i - window_size:i]\n",
    "    channels = []\n",
    "\n",
    "    series_close = window_df[f\"Close_{TICKER}\"].values.reshape(1, -1)\n",
    "    series_body = window_df[f\"Body_{TICKER}\"].values.reshape(1, -1)\n",
    "    series_lower = window_df[f\"Lower_Shadow_{TICKER}\"].values.reshape(1, -1)\n",
    "    series_upper = window_df[f\"Upper_Shadow_{TICKER}\"].values.reshape(1, -1)\n",
    "\n",
    "    for series in [series_close, series_body, series_lower, series_upper]:\n",
    "        gaf_image = gaf_transformer.fit_transform(series)[0]\n",
    "        channels.append(gaf_image)\n",
    "\n",
    "    gaf_img = np.stack(channels, axis=-1)  \n",
    "    label = df.iloc[i]['Pattern']\n",
    "\n",
    "    return gaf_img, label"
   ]
  },
  {
   "cell_type": "code",
   "execution_count": 16,
   "id": "a47444b8",
   "metadata": {},
   "outputs": [],
   "source": [
    "def generate_gaf_dataset(df, TICKER=TICKER, window_size=60, sequence_length =5):\n",
    "    sequences = []\n",
    "    labels = []\n",
    "    for i in range(window_size, len(df)):\n",
    "        label = df.iloc[i]['Pattern']\n",
    "        if label == 'None':\n",
    "            continue  \n",
    "\n",
    "        sequence = []\n",
    "        valid = True\n",
    "\n",
    "        for j in range(i - sequence_length + 1, i + 1):\n",
    "            gaf, _ = gaf_window(df, j, TICKER, window_size)\n",
    "            if gaf is None:\n",
    "                valid = False\n",
    "                break\n",
    "            sequence.append(gaf)\n",
    "        if valid:\n",
    "            sequences.append(np.array(sequence))  # shape: (sequence_length, 60, 60, 4)\n",
    "            labels.append(label)\n",
    "\n",
    "    return sequences, labels\n"
   ]
  },
  {
   "cell_type": "code",
   "execution_count": 17,
   "id": "56eefc80",
   "metadata": {},
   "outputs": [],
   "source": [
    "gaf_images, gaf_labels = generate_gaf_dataset(df)"
   ]
  },
  {
   "cell_type": "code",
   "execution_count": 18,
   "id": "d77aa371",
   "metadata": {},
   "outputs": [],
   "source": [
    "import matplotlib.pyplot as plt\n",
    "import seaborn as sns\n",
    "%matplotlib inline"
   ]
  },
  {
   "cell_type": "code",
   "execution_count": 19,
   "id": "ef701f77",
   "metadata": {},
   "outputs": [
    {
     "name": "stderr",
     "output_type": "stream",
     "text": [
      "Clipping input data to the valid range for imshow with RGB data ([0..1] for floats or [0..255] for integers). Got range [-1.0..1.0].\n",
      "Clipping input data to the valid range for imshow with RGB data ([0..1] for floats or [0..255] for integers). Got range [-1.0..1.0].\n",
      "Clipping input data to the valid range for imshow with RGB data ([0..1] for floats or [0..255] for integers). Got range [-1.0..1.0].\n",
      "Clipping input data to the valid range for imshow with RGB data ([0..1] for floats or [0..255] for integers). Got range [-1.0..0.9999952691310402].\n"
     ]
    },
    {
     "data": {
      "image/png": "[encoded data removed]",
      "text/plain": [
       "<Figure size 1000x1000 with 8 Axes>"
      ]
     },
     "metadata": {},
     "output_type": "display_data"
    }
   ],
   "source": [
    "import matplotlib.pyplot as plt\n",
    "import numpy as np\n",
    "\n",
    "def plot_gaf_channels(gaf_img, label=None):\n",
    "    feature_names = ['Close', 'Body', 'Lower Shadow', 'Upper Shadow']\n",
    "    \n",
    "    plt.figure(figsize=(10, 10))\n",
    "    \n",
    "    for i in range(4):\n",
    "        plt.subplot(2, 2, i+1)\n",
    "        plt.imshow(gaf_img[:, :, i], cmap='seismic', vmin=-1, vmax=1)\n",
    "        plt.colorbar()\n",
    "        plt.title(feature_names[i])\n",
    "        plt.axis('off')\n",
    "\n",
    "    if label:\n",
    "        plt.suptitle(f\"GAF Channels - Pattern: {label}\", fontsize=16)\n",
    "\n",
    "    plt.tight_layout()\n",
    "    plt.show()\n",
    "plot_gaf_channels(gaf_images[0], label='Morning Star')\n"
   ]
  },
  {
   "cell_type": "code",
   "execution_count": 20,
   "id": "affe4813",
   "metadata": {},
   "outputs": [],
   "source": [
    "X = np.array(gaf_images)\n",
    "y = np.array(gaf_labels)"
   ]
  },
  {
   "cell_type": "code",
   "execution_count": 21,
   "id": "2991b6f8",
   "metadata": {},
   "outputs": [
    {
     "name": "stdout",
     "output_type": "stream",
     "text": [
      "Counter({np.str_('Bullish Harami'): 327, np.str_('Bearish Harami'): 279, np.str_('Bearish Engulfing'): 262, np.str_('Evening Star'): 240, np.str_('Bullish Engulfing'): 236, np.str_('Morning Star'): 221})\n"
     ]
    }
   ],
   "source": [
    "from collections import Counter\n",
    "print(Counter(y))"
   ]
  },
  {
   "cell_type": "code",
   "execution_count": 22,
   "id": "f810031d",
   "metadata": {},
   "outputs": [],
   "source": [
    "from sklearn.preprocessing import LabelEncoder\n",
    "from tensorflow.keras.utils import to_categorical\n",
    "\n",
    "label_encoder = LabelEncoder()\n",
    "y_encoded = label_encoder.fit_transform(y)  # e.g., ['Bearish', 'Bullish', ...] → [0, 1, 2, ...]\n",
    "\n",
    "y_onehot = to_categorical(y_encoded, num_classes=len(label_encoder.classes_))\n"
   ]
  },
  {
   "cell_type": "code",
   "execution_count": 23,
   "id": "dc651669",
   "metadata": {},
   "outputs": [],
   "source": [
    "from sklearn.model_selection import train_test_split\n",
    "X_train, X_temp, y_train, y_temp = train_test_split(X, y_onehot, test_size=0.35, random_state=42, stratify=y)\n",
    "X_val, X_test, y_val, y_test = train_test_split(X_temp, y_temp, test_size=0.50, random_state=42, stratify=y_temp)\n"
   ]
  },
  {
   "cell_type": "code",
   "execution_count": 24,
   "id": "61ba6177",
   "metadata": {},
   "outputs": [],
   "source": [
    "import numpy as np\n",
    "y_train_labels = np.argmax(y_train, axis=1)\n",
    "from sklearn.utils import class_weight\n",
    "import numpy as np\n",
    "class_weights = class_weight.compute_class_weight(\n",
    "    class_weight='balanced',\n",
    "    classes=np.unique(y_train_labels),\n",
    "    y=y_train_labels\n",
    ")\n",
    "\n",
    "# Convert to dict for Keras\n",
    "class_weights_dict = dict(enumerate(class_weights))\n"
   ]
  },
  {
   "cell_type": "code",
   "execution_count": 25,
   "id": "af1425db",
   "metadata": {},
   "outputs": [],
   "source": [
    "import tensorflow as tf\n",
    "from tensorflow.keras.models import Sequential\n",
    "from tensorflow.keras.layers import Conv2D, Flatten, Dense, Dropout, Input, MaxPooling2D"
   ]
  },
  {
   "cell_type": "code",
   "execution_count": 26,
   "id": "56e3da95",
   "metadata": {},
   "outputs": [],
   "source": [
    "import tensorflow as tf\n",
    "\n",
    "def categorical_focal_loss(gamma=2.0, alpha=0.25):\n",
    "    def loss(y_true, y_pred):\n",
    "        # Clip predictions to prevent log(0)\n",
    "        y_pred = tf.clip_by_value(y_pred, 1e-7, 1. - 1e-7)\n",
    "\n",
    "        # Compute cross entropy\n",
    "        cross_entropy = -y_true * tf.math.log(y_pred)\n",
    "\n",
    "        # Compute focal loss factor\n",
    "        focal_factor = tf.pow(1 - y_pred, gamma)\n",
    "\n",
    "        # Combine\n",
    "        loss = alpha * focal_factor * cross_entropy\n",
    "\n",
    "        return tf.reduce_mean(tf.reduce_sum(loss, axis=1))\n",
    "    return loss"
   ]
  },
  {
   "cell_type": "code",
   "execution_count": 27,
   "id": "e8212c59",
   "metadata": {},
   "outputs": [],
   "source": [
    "from tensorflow.keras.models import Model\n",
    "from tensorflow.keras.layers import Input, Conv2D, MaxPooling2D, Flatten, Dense, Dropout, TimeDistributed, LSTM\n",
    "from tensorflow.keras.layers import GlobalAveragePooling1D, GlobalAveragePooling2D, BatchNormalization, Activation\n",
    "from tensorflow.keras.optimizers import Adam\n",
    "from tensorflow.keras.regularizers import l2\n",
    "from tensorflow.keras.callbacks import EarlyStopping\n",
    "\n",
    "def build_cnn_lstm_model(sequence_length=7, image_size=60, channels=4, num_classes=6):\n",
    "    input_layer = Input(shape=(sequence_length, image_size, image_size, channels))\n",
    "\n",
    "    # CNN feature extractor (shared across time via TimeDistributed)\n",
    "    def cnn_block():\n",
    "        return Sequential([\n",
    "            Conv2D(32, (3, 3), padding='same'),\n",
    "            MaxPooling2D(),\n",
    "            Activation('relu'),\n",
    "            Dropout(0.25),\n",
    "            Conv2D(64, (3, 3), padding='same'),\n",
    "            MaxPooling2D(),\n",
    "            Activation('relu'),\n",
    "            Flatten()\n",
    "        ])\n",
    "    \n",
    "    cnn = cnn_block()\n",
    "    x = TimeDistributed(cnn)(input_layer)   # Output shape: (batch, seq_len, features)\n",
    "\n",
    "    # LSTM to process sequence of CNN features\n",
    "    x = LSTM(64, return_sequences=False)(x)\n",
    "    x = Dropout(0.5)(x)\n",
    "    x = Dense(64, activation='relu')(x)\n",
    "    output = Dense(num_classes, activation='softmax')(x)\n",
    "\n",
    "    model = Model(inputs=input_layer, outputs=output)\n",
    "    model.compile(optimizer=Adam(1e-3),\n",
    "                metrics=['accuracy'],\n",
    "                loss=categorical_focal_loss())\n",
    "    return model\n",
    "early_stop = EarlyStopping(\n",
    "    monitor='val_loss',    # or 'val_accuracy', depending on your focus\n",
    "    patience=5,            # number of epochs with no improvement before stopping\n",
    "    restore_best_weights=True # restore model weights from the epoch with the best value of the monitored quantity\n",
    ")\n"
   ]
  },
  {
   "cell_type": "code",
   "execution_count": 28,
   "id": "2cd062a6",
   "metadata": {},
   "outputs": [
    {
     "name": "stdout",
     "output_type": "stream",
     "text": [
      "Epoch 1/60\n",
      "\u001b[1m32/32\u001b[0m \u001b[32m━━━━━━━━━━━━━━━━━━━━\u001b[0m\u001b[37m\u001b[0m \u001b[1m7s\u001b[0m 191ms/step - accuracy: 0.1726 - loss: 0.3396 - val_accuracy: 0.1861 - val_loss: 0.3047\n",
      "Epoch 2/60\n",
      "\u001b[1m32/32\u001b[0m \u001b[32m━━━━━━━━━━━━━━━━━━━━\u001b[0m\u001b[37m\u001b[0m \u001b[1m5s\u001b[0m 169ms/step - accuracy: 0.2189 - loss: 0.3061 - val_accuracy: 0.2555 - val_loss: 0.2893\n",
      "Epoch 3/60\n",
      "\u001b[1m32/32\u001b[0m \u001b[32m━━━━━━━━━━━━━━━━━━━━\u001b[0m\u001b[37m\u001b[0m \u001b[1m5s\u001b[0m 159ms/step - accuracy: 0.2627 - loss: 0.2958 - val_accuracy: 0.2591 - val_loss: 0.2718\n",
      "Epoch 4/60\n",
      "\u001b[1m32/32\u001b[0m \u001b[32m━━━━━━━━━━━━━━━━━━━━\u001b[0m\u001b[37m\u001b[0m \u001b[1m5s\u001b[0m 164ms/step - accuracy: 0.2863 - loss: 0.2791 - val_accuracy: 0.2956 - val_loss: 0.2647\n",
      "Epoch 5/60\n",
      "\u001b[1m32/32\u001b[0m \u001b[32m━━━━━━━━━━━━━━━━━━━━\u001b[0m\u001b[37m\u001b[0m \u001b[1m5s\u001b[0m 170ms/step - accuracy: 0.2856 - loss: 0.2715 - val_accuracy: 0.3029 - val_loss: 0.2558\n",
      "Epoch 6/60\n",
      "\u001b[1m32/32\u001b[0m \u001b[32m━━━━━━━━━━━━━━━━━━━━\u001b[0m\u001b[37m\u001b[0m \u001b[1m6s\u001b[0m 187ms/step - accuracy: 0.3469 - loss: 0.2580 - val_accuracy: 0.3759 - val_loss: 0.2374\n",
      "Epoch 7/60\n",
      "\u001b[1m32/32\u001b[0m \u001b[32m━━━━━━━━━━━━━━━━━━━━\u001b[0m\u001b[37m\u001b[0m \u001b[1m6s\u001b[0m 197ms/step - accuracy: 0.4143 - loss: 0.2253 - val_accuracy: 0.4562 - val_loss: 0.2029\n",
      "Epoch 8/60\n",
      "\u001b[1m32/32\u001b[0m \u001b[32m━━━━━━━━━━━━━━━━━━━━\u001b[0m\u001b[37m\u001b[0m \u001b[1m6s\u001b[0m 198ms/step - accuracy: 0.4466 - loss: 0.1971 - val_accuracy: 0.5036 - val_loss: 0.1882\n",
      "Epoch 9/60\n",
      "\u001b[1m32/32\u001b[0m \u001b[32m━━━━━━━━━━━━━━━━━━━━\u001b[0m\u001b[37m\u001b[0m \u001b[1m6s\u001b[0m 176ms/step - accuracy: 0.5243 - loss: 0.1633 - val_accuracy: 0.5693 - val_loss: 0.1543\n",
      "Epoch 10/60\n",
      "\u001b[1m32/32\u001b[0m \u001b[32m━━━━━━━━━━━━━━━━━━━━\u001b[0m\u001b[37m\u001b[0m \u001b[1m6s\u001b[0m 175ms/step - accuracy: 0.5880 - loss: 0.1448 - val_accuracy: 0.5401 - val_loss: 0.1537\n",
      "Epoch 11/60\n",
      "\u001b[1m32/32\u001b[0m \u001b[32m━━━━━━━━━━━━━━━━━━━━\u001b[0m\u001b[37m\u001b[0m \u001b[1m6s\u001b[0m 175ms/step - accuracy: 0.6448 - loss: 0.1177 - val_accuracy: 0.5438 - val_loss: 0.1629\n",
      "Epoch 12/60\n",
      "\u001b[1m32/32\u001b[0m \u001b[32m━━━━━━━━━━━━━━━━━━━━\u001b[0m\u001b[37m\u001b[0m \u001b[1m6s\u001b[0m 179ms/step - accuracy: 0.6678 - loss: 0.1010 - val_accuracy: 0.5182 - val_loss: 0.1842\n",
      "Epoch 13/60\n",
      "\u001b[1m32/32\u001b[0m \u001b[32m━━━━━━━━━━━━━━━━━━━━\u001b[0m\u001b[37m\u001b[0m \u001b[1m6s\u001b[0m 175ms/step - accuracy: 0.7024 - loss: 0.0972 - val_accuracy: 0.5620 - val_loss: 0.1532\n",
      "Epoch 14/60\n",
      "\u001b[1m32/32\u001b[0m \u001b[32m━━━━━━━━━━━━━━━━━━━━\u001b[0m\u001b[37m\u001b[0m \u001b[1m6s\u001b[0m 174ms/step - accuracy: 0.7421 - loss: 0.0750 - val_accuracy: 0.5328 - val_loss: 0.1710\n",
      "Epoch 15/60\n",
      "\u001b[1m32/32\u001b[0m \u001b[32m━━━━━━━━━━━━━━━━━━━━\u001b[0m\u001b[37m\u001b[0m \u001b[1m6s\u001b[0m 177ms/step - accuracy: 0.7613 - loss: 0.0667 - val_accuracy: 0.5511 - val_loss: 0.1868\n",
      "Epoch 16/60\n",
      "\u001b[1m32/32\u001b[0m \u001b[32m━━━━━━━━━━━━━━━━━━━━\u001b[0m\u001b[37m\u001b[0m \u001b[1m6s\u001b[0m 178ms/step - accuracy: 0.7974 - loss: 0.0495 - val_accuracy: 0.5438 - val_loss: 0.1704\n",
      "Epoch 17/60\n",
      "\u001b[1m32/32\u001b[0m \u001b[32m━━━━━━━━━━━━━━━━━━━━\u001b[0m\u001b[37m\u001b[0m \u001b[1m6s\u001b[0m 189ms/step - accuracy: 0.8408 - loss: 0.0433 - val_accuracy: 0.5401 - val_loss: 0.1788\n",
      "Epoch 18/60\n",
      "\u001b[1m32/32\u001b[0m \u001b[32m━━━━━━━━━━━━━━━━━━━━\u001b[0m\u001b[37m\u001b[0m \u001b[1m6s\u001b[0m 185ms/step - accuracy: 0.8457 - loss: 0.0347 - val_accuracy: 0.5474 - val_loss: 0.1887\n",
      "\u001b[1m9/9\u001b[0m \u001b[32m━━━━━━━━━━━━━━━━━━━━\u001b[0m\u001b[37m\u001b[0m \u001b[1m0s\u001b[0m 44ms/step - accuracy: 0.5447 - loss: 0.1845\n"
     ]
    },
    {
     "data": {
      "text/plain": [
       "[0.1621720939874649, 0.569343090057373]"
      ]
     },
     "execution_count": 28,
     "metadata": {},
     "output_type": "execute_result"
    }
   ],
   "source": [
    "model = build_cnn_lstm_model(sequence_length=5)\n",
    "model.fit(X_train, y_train, epochs=60, batch_size=32, \n",
    "        validation_data=(X_val, y_val), callbacks = [early_stop])\n",
    "model.evaluate(X_test, y_test)"
   ]
  },
  {
   "cell_type": "code",
   "execution_count": 29,
   "id": "63659dc2",
   "metadata": {},
   "outputs": [
    {
     "name": "stdout",
     "output_type": "stream",
     "text": [
      "\u001b[1m9/9\u001b[0m \u001b[32m━━━━━━━━━━━━━━━━━━━━\u001b[0m\u001b[37m\u001b[0m \u001b[1m1s\u001b[0m 59ms/step\n"
     ]
    }
   ],
   "source": [
    "y_prob = model.predict(X_test)\n",
    "y_true = np.argmax(y_test, axis=1)\n",
    "y_prob = np.argmax(y_prob, axis=1)"
   ]
  },
  {
   "cell_type": "code",
   "execution_count": 30,
   "id": "5cf39cc9",
   "metadata": {},
   "outputs": [
    {
     "data": {
      "text/plain": [
       "<Figure size 600x600 with 0 Axes>"
      ]
     },
     "metadata": {},
     "output_type": "display_data"
    },
    {
     "data": {
      "image/png": "[encoded data removed]",
      "text/plain": [
       "<Figure size 640x480 with 2 Axes>"
      ]
     },
     "metadata": {},
     "output_type": "display_data"
    }
   ],
   "source": [
    "classes = np.unique(gaf_labels)\n",
    "from sklearn.metrics import confusion_matrix, ConfusionMatrixDisplay\n",
    "cm = confusion_matrix(y_true, y_prob)\n",
    "disp = ConfusionMatrixDisplay(confusion_matrix=cm, display_labels=classes)\n",
    "plt.figure(figsize=(6,6))\n",
    "disp.plot(cmap='Blues', values_format='d')\n",
    "plt.show()"
   ]
  },
  {
   "cell_type": "code",
   "execution_count": 31,
   "id": "01bf0766",
   "metadata": {},
   "outputs": [
    {
     "name": "stdout",
     "output_type": "stream",
     "text": [
      "              precision    recall  f1-score   support\n",
      "\n",
      "           0       0.46      0.24      0.31        46\n",
      "           1       0.70      0.63      0.67        49\n",
      "           2       0.44      0.27      0.33        41\n",
      "           3       0.70      0.82      0.76        57\n",
      "           4       0.53      0.69      0.60        42\n",
      "           5       0.46      0.69      0.55        39\n",
      "\n",
      "    accuracy                           0.57       274\n",
      "   macro avg       0.55      0.56      0.54       274\n",
      "weighted avg       0.56      0.57      0.55       274\n",
      "\n"
     ]
    }
   ],
   "source": [
    "from sklearn.metrics import classification_report\n",
    "print(classification_report(y_true=y_true, y_pred=y_prob))"
   ]
  },
  {
   "cell_type": "code",
   "execution_count": null,
   "id": "e369e85f",
   "metadata": {},
   "outputs": [],
   "source": []
  },
  {
   "cell_type": "code",
   "execution_count": null,
   "id": "778613d8",
   "metadata": {},
   "outputs": [],
   "source": []
  }
 ],
 "metadata": {
  "kernelspec": {
   "display_name": ".venv",
   "language": "python",
   "name": "python3"
  },
  "language_info": {
   "codemirror_mode": {
    "name": "ipython",
    "version": 3
   },
   "file_extension": ".py",
   "mimetype": "text/x-python",
   "name": "python",
   "nbconvert_exporter": "python",
   "pygments_lexer": "ipython3",
   "version": "3.10.0"
  }
 },
 "nbformat": 4,
 "nbformat_minor": 5
}
